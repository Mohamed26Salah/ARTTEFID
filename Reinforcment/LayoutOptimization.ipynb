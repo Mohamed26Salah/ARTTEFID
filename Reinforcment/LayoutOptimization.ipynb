{
 "cells": [
  {
   "cell_type": "markdown",
   "metadata": {
    "id": "iPj380jOj7pu"
   },
   "source": [
    "# 0. Install Dependencies"
   ]
  },
  {
   "cell_type": "markdown",
   "metadata": {},
   "source": [
    "# import data from json"
   ]
  },
  {
   "cell_type": "code",
   "execution_count": 1,
   "metadata": {},
   "outputs": [],
   "source": [
    "from RoomModel import *"
   ]
  },
  {
   "cell_type": "code",
   "execution_count": 2,
   "metadata": {},
   "outputs": [
    {
     "name": "stdout",
     "output_type": "stream",
     "text": [
      "Name: keras\n",
      "Version: 2.11.0\n",
      "Summary: Deep learning for humans.\n",
      "Home-page: https://keras.io/\n",
      "Author: Keras team\n",
      "Author-email: keras-users@googlegroups.com\n",
      "License: Apache 2.0\n",
      "Location: f:\\programs\\anaconda3\\envs\\reinforcmentlearning\\lib\\site-packages\n",
      "Requires: \n",
      "Required-by: \n"
     ]
    },
    {
     "name": "stderr",
     "output_type": "stream",
     "text": [
      "WARNING: Ignoring invalid distribution -umpy (f:\\programs\\anaconda3\\envs\\reinforcmentlearning\\lib\\site-packages)\n",
      "WARNING: Ignoring invalid distribution - (f:\\programs\\anaconda3\\envs\\reinforcmentlearning\\lib\\site-packages)\n"
     ]
    }
   ],
   "source": [
    "!pip show keras"
   ]
  },
  {
   "cell_type": "code",
   "execution_count": 3,
   "metadata": {},
   "outputs": [],
   "source": [
    "import json\n",
    "# Opening JSON file\n",
    "f = open('SampleData.json')\n",
    "\n",
    "# returns JSON object as \n",
    "# a dictionary\n",
    "data = json.load(f)\n",
    "  \n",
    "# Iterating through the json\n",
    "# list\n",
    "Room =Room.from_dict(data)\n",
    "  \n",
    "# Closing file\n",
    "f.close()"
   ]
  },
  {
   "cell_type": "code",
   "execution_count": 4,
   "metadata": {},
   "outputs": [
    {
     "name": "stdout",
     "output_type": "stream",
     "text": [
      "[[10, 20], [10, 10]]\n"
     ]
    }
   ],
   "source": [
    "print(Room.furniture.dimensions)"
   ]
  },
  {
   "cell_type": "markdown",
   "metadata": {
    "id": "8gTgWJgGj7p2"
   },
   "source": [
    "# 1. Test Random Environment with OpenAI Gym"
   ]
  },
  {
   "cell_type": "code",
   "execution_count": 5,
   "metadata": {
    "id": "Uh3jG0Rkj7p3"
   },
   "outputs": [],
   "source": [
    "from Room import *"
   ]
  },
  {
   "cell_type": "code",
   "execution_count": 6,
   "metadata": {
    "id": "YzVtE_KXj7p4"
   },
   "outputs": [],
   "source": [
    "# RoomEnv(Furniture Dimension ,Doors (doors Dimensions , (Door1 pos, Door2 pos,etc )),Windows(windows Dimensions,(window1 pos, window2 pos,etc )) )"
   ]
  },
  {
   "cell_type": "code",
   "execution_count": 7,
   "metadata": {
    "id": "8ZxpAR8Rj7p5"
   },
   "outputs": [],
   "source": [
    "env = RoomEnv(Room.furniture.dimensions,Room.doors.doors_dimensions,Room.doors.doors_positions,Room.windows.windows_dimensions,Room.windows.windows_positions,Room.furniture.keywords, Room.room_dimensions)"
   ]
  },
  {
   "cell_type": "code",
   "execution_count": 8,
   "metadata": {
    "colab": {
     "base_uri": "https://localhost:8080/"
    },
    "id": "9mFoo5gxj7p7",
    "outputId": "0c91ddac-c86d-4637-d77e-c20047d66adf",
    "tags": [
     "nbconvert"
    ]
   },
   "outputs": [],
   "source": [
    "# episodes = 10\n",
    "# for episode in range(1, episodes+1):\n",
    "#     state = env.reset()\n",
    "#     done = False\n",
    "#     score = 0 \n",
    "#     switch = False\n",
    "    \n",
    "#     while not done:\n",
    "#         env.render(\"human\")\n",
    "#         if(switch):\n",
    "#             action = 0\n",
    "#             switch=False\n",
    "#         else:\n",
    "#             action = 2\n",
    "#             switch=True\n",
    "# #         print('CurrentPos:{}'.format(action))\n",
    "        \n",
    "#         n_state, reward, done, info = env.step(action)\n",
    "#         score+=reward\n",
    "#     print('Episode:{} Score:{} '.format(episode, score))\n",
    "#     env.close()"
   ]
  },
  {
   "cell_type": "code",
   "execution_count": 9,
   "metadata": {},
   "outputs": [],
   "source": [
    "from rl.agents import DQNAgent\n",
    "from rl.policy import  BoltzmannQPolicy\n",
    "from rl.memory import SequentialMemory"
   ]
  },
  {
   "cell_type": "markdown",
   "metadata": {
    "id": "lhTt3XNij7p8"
   },
   "source": [
    "# 2. Create a Deep Learning Model with Keras"
   ]
  },
  {
   "cell_type": "code",
   "execution_count": 10,
   "metadata": {
    "id": "RvSScRXcj7p9"
   },
   "outputs": [],
   "source": [
    "from rl.agents import DQNAgent\n",
    "from rl.policy import  BoltzmannQPolicy\n",
    "from rl.memory import SequentialMemory\n",
    "import numpy as np\n",
    "from tensorflow.keras.models import Sequential\n",
    "from tensorflow.keras.layers import Dense, Flatten\n",
    "from tensorflow.keras.optimizers import Adam"
   ]
  },
  {
   "cell_type": "code",
   "execution_count": 11,
   "metadata": {
    "id": "yFV4_QWSj7p-"
   },
   "outputs": [],
   "source": [
    "states = env.observation_space.shape\n",
    "actions = env.action_space.n"
   ]
  },
  {
   "cell_type": "code",
   "execution_count": 12,
   "metadata": {
    "colab": {
     "base_uri": "https://localhost:8080/"
    },
    "id": "W0XBuhvzj7p-",
    "outputId": "92f6224b-197a-4974-85eb-e5ff75c52a74"
   },
   "outputs": [
    {
     "name": "stdout",
     "output_type": "stream",
     "text": [
      "(1, 2, 2)\n",
      "4\n",
      "([array([28, 48]), [65, 70]], 43, False, {})\n",
      "([array([28, 48]), array([66, 70])], 226, False, {})\n"
     ]
    }
   ],
   "source": [
    "\n",
    "print(states)\n",
    "print(actions)\n",
    "print(env.step(0))\n",
    "print(env.step(0))"
   ]
  },
  {
   "cell_type": "code",
   "execution_count": 13,
   "metadata": {
    "id": "QPXP6OWAj7p-"
   },
   "outputs": [],
   "source": [
    "def build_model(states, actions):\n",
    "    model = Sequential()\n",
    "    model.add(Flatten(input_shape=states))  \n",
    "    model.add(Dense(24, activation='relu', input_shape=states))\n",
    "\n",
    "    model.add(Dense(24, activation='relu'))\n",
    "    \n",
    "    model.add(Dense(actions, activation='linear'))\n",
    "    return model"
   ]
  },
  {
   "cell_type": "code",
   "execution_count": 14,
   "metadata": {
    "id": "_zw97GX7j7p_"
   },
   "outputs": [],
   "source": [
    "# del model "
   ]
  },
  {
   "cell_type": "code",
   "execution_count": 15,
   "metadata": {
    "id": "6Tpf6H_0j7p_"
   },
   "outputs": [],
   "source": [
    "model = build_model(states, actions)"
   ]
  },
  {
   "cell_type": "code",
   "execution_count": 16,
   "metadata": {
    "colab": {
     "base_uri": "https://localhost:8080/"
    },
    "id": "dtVi0tOXj7p_",
    "outputId": "cc281261-3c8c-47d5-fa0c-adf260b96441"
   },
   "outputs": [
    {
     "name": "stdout",
     "output_type": "stream",
     "text": [
      "Model: \"sequential\"\n",
      "_________________________________________________________________\n",
      "Layer (type)                 Output Shape              Param #   \n",
      "=================================================================\n",
      "flatten (Flatten)            (None, 4)                 0         \n",
      "_________________________________________________________________\n",
      "dense (Dense)                (None, 24)                120       \n",
      "_________________________________________________________________\n",
      "dense_1 (Dense)              (None, 24)                600       \n",
      "_________________________________________________________________\n",
      "dense_2 (Dense)              (None, 4)                 100       \n",
      "=================================================================\n",
      "Total params: 820\n",
      "Trainable params: 820\n",
      "Non-trainable params: 0\n",
      "_________________________________________________________________\n",
      "(None, 1, 2, 2)\n"
     ]
    }
   ],
   "source": [
    "model.summary()\n",
    "pt_depth = model.layers[0].get_input_shape_at(node_index=0)\n",
    "print(pt_depth)"
   ]
  },
  {
   "cell_type": "markdown",
   "metadata": {
    "id": "8XKacIXej7qA"
   },
   "source": [
    "# 3. Build Agent with Keras-RL"
   ]
  },
  {
   "cell_type": "code",
   "execution_count": 17,
   "metadata": {
    "id": "U8kDaoVIj7qA"
   },
   "outputs": [
    {
     "name": "stdout",
     "output_type": "stream",
     "text": [
      "[66 70]\n"
     ]
    }
   ],
   "source": [
    "print(env.state)\n"
   ]
  },
  {
   "cell_type": "code",
   "execution_count": 18,
   "metadata": {},
   "outputs": [
    {
     "name": "stdout",
     "output_type": "stream",
     "text": [
      "[[20, 40], [20, 20]]\n"
     ]
    }
   ],
   "source": [
    "print(env.furniture_dimensions)"
   ]
  },
  {
   "cell_type": "code",
   "execution_count": 19,
   "metadata": {
    "id": "RsfBpb9ej7qA"
   },
   "outputs": [],
   "source": [
    "def build_agent(model, actions):\n",
    "    policy =  BoltzmannQPolicy()\n",
    "    memory = SequentialMemory(limit=500000, window_length=1)\n",
    "    dqn = DQNAgent(model=model, memory=memory, policy=policy, \n",
    "                  nb_actions=actions, nb_steps_warmup=300, target_model_update= 1e-3)\n",
    "    return dqn"
   ]
  },
  {
   "cell_type": "code",
   "execution_count": 20,
   "metadata": {},
   "outputs": [],
   "source": [
    "def fitall(steps, dqns):\n",
    "  for i in range(steps):\n",
    "    for dqn in dqns:\n",
    "        dqn.fit(env, nb_steps=1, visualize=True, verbose=1)"
   ]
  },
  {
   "cell_type": "code",
   "execution_count": 21,
   "metadata": {
    "colab": {
     "base_uri": "https://localhost:8080/",
     "height": 397
    },
    "id": "sYl8cAgfj7qB",
    "outputId": "d5dba474-786d-4a66-9e01-2aacb71e595d"
   },
   "outputs": [
    {
     "name": "stdout",
     "output_type": "stream",
     "text": [
      "Training for 1 steps ...\n"
     ]
    },
    {
     "ename": "AssertionError",
     "evalue": "",
     "output_type": "error",
     "traceback": [
      "\u001b[1;31m---------------------------------------------------------------------------\u001b[0m",
      "\u001b[1;31mAssertionError\u001b[0m                            Traceback (most recent call last)",
      "Cell \u001b[1;32mIn[21], line 7\u001b[0m\n\u001b[0;32m      4\u001b[0m dqn2 \u001b[39m=\u001b[39m build_agent(model, actions)\n\u001b[0;32m      5\u001b[0m dqn2\u001b[39m.\u001b[39mcompile(Adam(lr\u001b[39m=\u001b[39m\u001b[39m1e-3\u001b[39m), metrics\u001b[39m=\u001b[39m[\u001b[39m'\u001b[39m\u001b[39mmae\u001b[39m\u001b[39m'\u001b[39m])\n\u001b[1;32m----> 7\u001b[0m fitall(\u001b[39m100000\u001b[39;49m,[dqn2,dqn])\n\u001b[0;32m      8\u001b[0m env\u001b[39m.\u001b[39mclose()\n",
      "Cell \u001b[1;32mIn[20], line 4\u001b[0m, in \u001b[0;36mfitall\u001b[1;34m(steps, dqns)\u001b[0m\n\u001b[0;32m      2\u001b[0m \u001b[39mfor\u001b[39;00m i \u001b[39min\u001b[39;00m \u001b[39mrange\u001b[39m(steps):\n\u001b[0;32m      3\u001b[0m   \u001b[39mfor\u001b[39;00m dqn \u001b[39min\u001b[39;00m dqns:\n\u001b[1;32m----> 4\u001b[0m       dqn\u001b[39m.\u001b[39;49mfit(env, nb_steps\u001b[39m=\u001b[39;49m\u001b[39m1\u001b[39;49m, visualize\u001b[39m=\u001b[39;49m\u001b[39mTrue\u001b[39;49;00m, verbose\u001b[39m=\u001b[39;49m\u001b[39m1\u001b[39;49m)\n",
      "File \u001b[1;32mf:\\Programs\\anaconda3\\envs\\reinforcmentlearning\\lib\\site-packages\\rl\\core.py:134\u001b[0m, in \u001b[0;36mAgent.fit\u001b[1;34m(self, env, nb_steps, action_repetition, callbacks, verbose, visualize, nb_max_start_steps, start_step_policy, log_interval, nb_max_episode_steps)\u001b[0m\n\u001b[0;32m    132\u001b[0m \u001b[39mif\u001b[39;00m \u001b[39mself\u001b[39m\u001b[39m.\u001b[39mprocessor \u001b[39mis\u001b[39;00m \u001b[39mnot\u001b[39;00m \u001b[39mNone\u001b[39;00m:\n\u001b[0;32m    133\u001b[0m     observation \u001b[39m=\u001b[39m \u001b[39mself\u001b[39m\u001b[39m.\u001b[39mprocessor\u001b[39m.\u001b[39mprocess_observation(observation)\n\u001b[1;32m--> 134\u001b[0m \u001b[39massert\u001b[39;00m observation \u001b[39mis\u001b[39;00m \u001b[39mnot\u001b[39;00m \u001b[39mNone\u001b[39;00m\n\u001b[0;32m    136\u001b[0m \u001b[39m# Perform random starts at beginning of episode and do not record them into the experience.\u001b[39;00m\n\u001b[0;32m    137\u001b[0m \u001b[39m# This slightly changes the start position between games.\u001b[39;00m\n\u001b[0;32m    138\u001b[0m nb_random_start_steps \u001b[39m=\u001b[39m \u001b[39m0\u001b[39m \u001b[39mif\u001b[39;00m nb_max_start_steps \u001b[39m==\u001b[39m \u001b[39m0\u001b[39m \u001b[39melse\u001b[39;00m np\u001b[39m.\u001b[39mrandom\u001b[39m.\u001b[39mrandint(nb_max_start_steps)\n",
      "\u001b[1;31mAssertionError\u001b[0m: "
     ]
    }
   ],
   "source": [
    "\n",
    "dqn = build_agent(model, actions)\n",
    "dqn.compile(Adam(lr=1e-3), metrics=['mae'])\n",
    "\n",
    "dqn2 = build_agent(model, actions)\n",
    "dqn2.compile(Adam(lr=1e-3), metrics=['mae'])\n",
    "\n",
    "fitall(100000,[dqn2,dqn])\n",
    "env.close(); "
   ]
  },
  {
   "cell_type": "code",
   "execution_count": null,
   "metadata": {
    "id": "tteRF-rBj7qE"
   },
   "outputs": [],
   "source": [
    "from datetime import datetime\n",
    "\n",
    "now = datetime.now()\n",
    "\n",
    "current_time = now.strftime(\"%H%M%S\")\n",
    "dqn.save_weights(model.name+current_time+'dqn_weights.h5f', overwrite=True)"
   ]
  },
  {
   "cell_type": "code",
   "execution_count": null,
   "metadata": {
    "colab": {
     "base_uri": "https://localhost:8080/"
    },
    "id": "Dqb0nLAsj7qB",
    "outputId": "a9b643a5-2357-463e-a9c4-0ce1e261eecf"
   },
   "outputs": [],
   "source": [
    "\n",
    "scores = dqn.test(env, nb_episodes=5, visualize=True)\n",
    "env.close();\n",
    "print(scores.history['episode_reward'])"
   ]
  },
  {
   "cell_type": "code",
   "execution_count": null,
   "metadata": {
    "colab": {
     "base_uri": "https://localhost:8080/",
     "height": 613
    },
    "id": "u3Y3hSwHHibv",
    "outputId": "85f35a85-be28-49b8-fcd5-175b5796aa23"
   },
   "outputs": [],
   "source": [
    "env.state"
   ]
  },
  {
   "cell_type": "code",
   "execution_count": null,
   "metadata": {},
   "outputs": [],
   "source": [
    "dqn = build_agent(model, actions)\n",
    "dqn.compile(Adam(lr=1e-3), metrics=['mae'])"
   ]
  },
  {
   "cell_type": "code",
   "execution_count": null,
   "metadata": {
    "id": "q8OzdBNwj7qF"
   },
   "outputs": [],
   "source": [
    "dqn.load_weights('sequential_1doorWindowRandomStartSuccessdqn_weights2.h5f')"
   ]
  },
  {
   "cell_type": "code",
   "execution_count": null,
   "metadata": {
    "colab": {
     "base_uri": "https://localhost:8080/"
    },
    "id": "Dqb0nLAsj7qB",
    "outputId": "a9b643a5-2357-463e-a9c4-0ce1e261eecf"
   },
   "outputs": [],
   "source": [
    "scores = dqn.test(env, nb_episodes=5, visualize=True)\n",
    "env.close();\n",
    "print(scores.history['episode_reward'])"
   ]
  },
  {
   "cell_type": "code",
   "execution_count": null,
   "metadata": {},
   "outputs": [],
   "source": [
    "env.render3()"
   ]
  },
  {
   "cell_type": "markdown",
   "metadata": {
    "id": "5d8uez7dj7qD"
   },
   "source": [
    "# 4. Reloading Agent from Memory"
   ]
  },
  {
   "cell_type": "code",
   "execution_count": null,
   "metadata": {
    "id": "ZH4dqugBj7qE"
   },
   "outputs": [],
   "source": [
    "del model\n",
    "del dqn\n",
    "del env"
   ]
  },
  {
   "cell_type": "code",
   "execution_count": null,
   "metadata": {
    "id": "fz7RAJ9Rj7qE"
   },
   "outputs": [],
   "source": [
    "env = gym.make('CartPole-v0')\n",
    "actions = env.action_space.n\n",
    "states = env.observation_space.shape[0]\n",
    "model = build_model(states, actions)\n",
    "dqn = build_agent(model, actions)\n",
    "dqn.compile(Adam(lr=1e-3), metrics=['mae'])"
   ]
  },
  {
   "cell_type": "code",
   "execution_count": null,
   "metadata": {
    "id": "GIM5k-M2j7qF"
   },
   "outputs": [],
   "source": [
    "_ = dqn.test(env, nb_episodes=5, visualize=True)"
   ]
  },
  {
   "cell_type": "code",
   "execution_count": null,
   "metadata": {
    "id": "ssrGKaxzj7qG"
   },
   "outputs": [],
   "source": []
  }
 ],
 "metadata": {
  "colab": {
   "provenance": []
  },
  "kernelspec": {
   "display_name": "reinforcmentlearning",
   "language": "python",
   "name": "python3"
  },
  "language_info": {
   "codemirror_mode": {
    "name": "ipython",
    "version": 3
   },
   "file_extension": ".py",
   "mimetype": "text/x-python",
   "name": "python",
   "nbconvert_exporter": "python",
   "pygments_lexer": "ipython3",
   "version": "3.8.15"
  },
  "vscode": {
   "interpreter": {
    "hash": "b16aa9c2f9ca519bd84c3170bdda05fa03e46a681e2095a6220d679a6ba17b2f"
   }
  }
 },
 "nbformat": 4,
 "nbformat_minor": 1
}
