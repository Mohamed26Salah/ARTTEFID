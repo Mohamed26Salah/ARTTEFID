{
 "cells": [
  {
   "cell_type": "markdown",
   "metadata": {
    "id": "iPj380jOj7pu"
   },
   "source": [
    "# 0. Install Dependencies"
   ]
  },
  {
   "cell_type": "code",
   "execution_count": null,
   "metadata": {
    "id": "8Q_3zi2mj7p0"
   },
   "outputs": [],
   "source": [
    "!pip install tensorflow\n",
    "!pip install gym\n",
    "!pip install keras\n",
    "!pip install keras-rl2\n",
    "!pip install pygame\n",
    "!pip install matplotlib --user"
   ]
  },
  {
   "cell_type": "code",
   "execution_count": 59,
   "metadata": {},
   "outputs": [
    {
     "name": "stdout",
     "output_type": "stream",
     "text": [
      "Collecting seaborn\n",
      "  Downloading seaborn-0.12.1-py3-none-any.whl (288 kB)\n",
      "     -------------------------------------- 288.2/288.2 kB 1.0 MB/s eta 0:00:00\n",
      "Requirement already satisfied: matplotlib!=3.6.1,>=3.1 in c:\\users\\20101\\appdata\\roaming\\python\\python38\\site-packages (from seaborn) (3.6.2)\n",
      "Requirement already satisfied: numpy>=1.17 in c:\\users\\20101\\anaconda3\\envs\\reinforcmentlearning\\lib\\site-packages (from seaborn) (1.23.5)\n",
      "Requirement already satisfied: pandas>=0.25 in c:\\users\\20101\\appdata\\roaming\\python\\python38\\site-packages (from seaborn) (1.2.2)\n",
      "Requirement already satisfied: fonttools>=4.22.0 in c:\\users\\20101\\appdata\\roaming\\python\\python38\\site-packages (from matplotlib!=3.6.1,>=3.1->seaborn) (4.38.0)\n",
      "Requirement already satisfied: pyparsing>=2.2.1 in c:\\users\\20101\\anaconda3\\envs\\reinforcmentlearning\\lib\\site-packages (from matplotlib!=3.6.1,>=3.1->seaborn) (3.0.9)\n",
      "Requirement already satisfied: contourpy>=1.0.1 in c:\\users\\20101\\appdata\\roaming\\python\\python38\\site-packages (from matplotlib!=3.6.1,>=3.1->seaborn) (1.0.6)\n",
      "Requirement already satisfied: python-dateutil>=2.7 in c:\\users\\20101\\anaconda3\\envs\\reinforcmentlearning\\lib\\site-packages (from matplotlib!=3.6.1,>=3.1->seaborn) (2.8.2)\n",
      "Requirement already satisfied: pillow>=6.2.0 in c:\\users\\20101\\anaconda3\\envs\\reinforcmentlearning\\lib\\site-packages (from matplotlib!=3.6.1,>=3.1->seaborn) (9.3.0)\n",
      "Requirement already satisfied: cycler>=0.10 in c:\\users\\20101\\appdata\\roaming\\python\\python38\\site-packages (from matplotlib!=3.6.1,>=3.1->seaborn) (0.11.0)\n",
      "Requirement already satisfied: kiwisolver>=1.0.1 in c:\\users\\20101\\appdata\\roaming\\python\\python38\\site-packages (from matplotlib!=3.6.1,>=3.1->seaborn) (1.4.4)\n",
      "Requirement already satisfied: packaging>=20.0 in c:\\users\\20101\\anaconda3\\envs\\reinforcmentlearning\\lib\\site-packages (from matplotlib!=3.6.1,>=3.1->seaborn) (21.3)\n",
      "Requirement already satisfied: pytz>=2017.3 in c:\\users\\20101\\anaconda3\\envs\\reinforcmentlearning\\lib\\site-packages (from pandas>=0.25->seaborn) (2022.6)\n",
      "Requirement already satisfied: six>=1.5 in c:\\users\\20101\\anaconda3\\envs\\reinforcmentlearning\\lib\\site-packages (from python-dateutil>=2.7->matplotlib!=3.6.1,>=3.1->seaborn) (1.16.0)\n",
      "Installing collected packages: seaborn\n",
      "Successfully installed seaborn-0.12.1\n"
     ]
    }
   ],
   "source": [
    "\n",
    "!pip install seaborn --user"
   ]
  },
  {
   "cell_type": "code",
   "execution_count": 61,
   "metadata": {},
   "outputs": [
    {
     "name": "stdout",
     "output_type": "stream",
     "text": [
      "Requirement already satisfied: pandas in c:\\users\\20101\\appdata\\roaming\\python\\python38\\site-packages (1.2.2)\n",
      "Requirement already satisfied: numpy>=1.16.5 in c:\\users\\20101\\anaconda3\\envs\\reinforcmentlearning\\lib\\site-packages (from pandas) (1.23.5)\n",
      "Requirement already satisfied: python-dateutil>=2.7.3 in c:\\users\\20101\\anaconda3\\envs\\reinforcmentlearning\\lib\\site-packages (from pandas) (2.8.2)\n",
      "Requirement already satisfied: pytz>=2017.3 in c:\\users\\20101\\anaconda3\\envs\\reinforcmentlearning\\lib\\site-packages (from pandas) (2022.6)\n",
      "Requirement already satisfied: six>=1.5 in c:\\users\\20101\\anaconda3\\envs\\reinforcmentlearning\\lib\\site-packages (from python-dateutil>=2.7.3->pandas) (1.16.0)\n"
     ]
    }
   ],
   "source": [
    "!pip install pandas --user"
   ]
  },
  {
   "cell_type": "code",
   "execution_count": 53,
   "metadata": {},
   "outputs": [
    {
     "name": "stderr",
     "output_type": "stream",
     "text": [
      "\n",
      "Usage:   \n",
      "  pip <command> [options]\n",
      "\n",
      "ambiguous option: --v (--verbose, --version?)\n"
     ]
    }
   ],
   "source": [
    "!pip  --v pandas"
   ]
  },
  {
   "cell_type": "code",
   "execution_count": null,
   "metadata": {},
   "outputs": [],
   "source": [
    "!conda info --envs"
   ]
  },
  {
   "cell_type": "markdown",
   "metadata": {
    "id": "8gTgWJgGj7p2"
   },
   "source": [
    "# 1. Test Random Environment with OpenAI Gym"
   ]
  },
  {
   "cell_type": "code",
   "execution_count": 73,
   "metadata": {
    "id": "Uh3jG0Rkj7p3"
   },
   "outputs": [],
   "source": [
    "from gym import Env\n",
    "from gym.spaces import Discrete, Box\n",
    "import numpy as np\n",
    "import random\n",
    "import math\n",
    "import matplotlib.pyplot as plt\n",
    "import pygame\n",
    "from pygame.locals import * \n",
    "import random\n"
   ]
  },
  {
   "cell_type": "code",
   "execution_count": 89,
   "metadata": {
    "id": "YzVtE_KXj7p4"
   },
   "outputs": [],
   "source": [
    "from logging import exception\n",
    "class RoomEnv(Env):\n",
    "    def __init__(self,FD,Door,Window):\n",
    "        # Actions we can up, down, right, left\n",
    "        self.action_space = Discrete(4)\n",
    "        # Room Dimensions\n",
    "        self.observation_space = Box(low=0, high=100, shape=(1,2),dtype=np.int16)\n",
    "        # Set start temp\n",
    "        self.state = [random.randint(25, 75),random.randint(25, 75)]\n",
    "        self.scale_factor = 4\n",
    "        self.screen_width=self.scale_factor*self.observation_space.high[0][0]\n",
    "        self.screen_height=self.scale_factor*self.observation_space.high[0][0]\n",
    "        self.door_pos = Door[0]\n",
    "        self.door_dimensions = tuple(self.scale_factor * elem for elem in Door[1])\n",
    "        self.window_pos = Window[0]\n",
    "        self.window_dimensions = tuple(self.scale_factor * elem for elem in Window[1])\n",
    "        self.furniture_dimensions=tuple(self.scale_factor * elem for elem in FD)\n",
    "        self.dist1=int(math.dist( [50,50], self.state ))\n",
    "        self.dist2=int(math.dist(self.state, self.door_pos ))\n",
    "        self.dist3=int(math.dist(self.state, self.window_pos ))\n",
    "\n",
    "        \n",
    "        # Set shower length\n",
    "        self.move_length = 200\n",
    "        self.screen = None\n",
    "        self.clock = None\n",
    "        self.isopen = True\n",
    "        self.accumulator = 0\n",
    "        self.past_state=[0,0]\n",
    "        self.past_dist = 0\n",
    "        \n",
    "    def step(self, action):\n",
    "        # Apply action\n",
    "         \n",
    "        if(action==0 and self.state[0]<100 ):\n",
    "          # go right\n",
    "          self.state = np.add([1,0],self.state)\n",
    "        if(action==1 and self.state[0]>0 ):\n",
    "          # go left\n",
    "          self.state = np.add([-1,0],self.state)\n",
    "        if(action==2 and self.state[1]<100):\n",
    "          # go down\n",
    "          self.state = np.add([0,1],self.state)\n",
    "        if(action==3 and self.state[1]>0):\n",
    "          # go up\n",
    "          self.state = np.add([0,-1],self.state)\n",
    "        # Reduce move length by 1 second\n",
    "        self.move_length -= 1 \n",
    "        \n",
    "        self.dist1=int(math.dist( [50,50], self.state ))\n",
    "        self.dist2=int(math.dist(self.state, self.door_pos ))\n",
    "        self.dist3=int(math.dist(self.state, self.window_pos ))\n",
    "        # Calculate reward\n",
    "        if(self.past_dist<int(self.dist1+self.dist2+self.dist3)):\n",
    "            reward=int(self.dist1+self.dist2+self.dist3)/10\n",
    "            \n",
    "        else:\n",
    "            reward= -1\n",
    "            \n",
    "#         reward = int(math.dist(np.mean( np.array([ [50,50], self.door_pos ]), axis=0 ), self.state))\n",
    "#         if(self.past_state[0] ==self.state[0] and self.past_state[1] ==self.state[1]):\n",
    "           \n",
    "#             reward= -1\n",
    "       \n",
    "        \n",
    "        \n",
    "        self.past_state =self.state\n",
    "        \n",
    "        self.past_dist=int(self.dist1+self.dist2+self.dist3)\n",
    "        # Check if shower is done\n",
    "        if self.move_length <= 0: \n",
    "            done = True\n",
    "        else:\n",
    "            done = False\n",
    "        \n",
    "        # Apply temperature noise\n",
    "        #self.state += random.randint(-1,1)\n",
    "        # Set placeholder for info\n",
    "        info = {}\n",
    "        \n",
    "        \n",
    "        \n",
    "        # Return step information\n",
    "        return self.state, reward, done, info\n",
    "    def render(self,mode):\n",
    "        if self.screen is None:\n",
    "            pygame.init()\n",
    "            pygame.display.init()\n",
    "            pygame.display.set_caption(\"Layout Optimization\")\n",
    "        self.screen = pygame.display.set_mode((self.screen_width, self.screen_height))\n",
    "        if self.clock is None:\n",
    "            self.clock = pygame.time.Clock()\n",
    "\n",
    "\n",
    "\n",
    "        if self.state is None:\n",
    "            return None\n",
    "\n",
    "        x = self.state\n",
    "\n",
    "        self.screen.fill((143,0,255))\n",
    "        \n",
    "        pygame.draw.rect(self.screen,(252, 198, 108),((self.state[0]*self.scale_factor-(self.furniture_dimensions[0]/2)),(self.state[1]*self.scale_factor-(self.furniture_dimensions[1]/2)),self.furniture_dimensions[0],self.furniture_dimensions[1]))  \n",
    "        pygame.draw.rect(self.screen,(0,0,0),(self.door_pos[0]*self.scale_factor,self.door_pos[1]*self.scale_factor,self.door_dimensions[0],self.door_dimensions[1]))\n",
    "        pygame.draw.rect(self.screen,(0,0,0),(self.window_pos[0]*self.scale_factor,self.window_pos[1]*self.scale_factor,self.window_dimensions[0],self.window_dimensions[1]))\n",
    "#         pygame.event.pump()\n",
    "        self.clock.tick(50)\n",
    "        pygame.display.flip()\n",
    "        \n",
    "        for event in pygame.event.get():\n",
    "            if event.type == QUIT:\n",
    "                self.close()\n",
    "\n",
    "\n",
    "    def close(self):\n",
    "            pygame.display.quit()\n",
    "            pygame.quit()\n",
    "            self.isopen = False\n",
    "\n",
    "    def render2(self):\n",
    "        print(self.state)\n",
    "        grid = np.zeros((101, 101))\n",
    "        grid = np.transpose(grid)\n",
    "        \n",
    "        \n",
    "        grid[self.state[1]+50-1][self.state[0]+50-1]=1\n",
    "        plt.figure(figsize = (10,10))\n",
    "        gridx, gridy = grid.shape\n",
    "        plt.ylim(0,100)\n",
    "        # plt.xlim(-50,50)\n",
    "        \n",
    "        plt.imshow(grid)\n",
    "        \n",
    "    def render3(self):\n",
    "        import numpy as np\n",
    "        z=np.zeros((self.observation_space.high[0][0],self.observation_space.high[0][0]), dtype=int)\n",
    "        for i in range(self.observation_space.high[0][0]):\n",
    "            for j in range(self.observation_space.high[0][0]):\n",
    "                z[i][j]=(int(math.dist( [50,50], [i,j] )))+(int(math.dist( self.door_pos, [i,j] )))+(int(math.dist( self.window_pos, [i,j] )))\n",
    "                \n",
    "        for i in range(self.window_pos[0],self.window_pos[0]+15):\n",
    "            for j in range(self.window_pos[1],self.window_pos[1]+2):\n",
    "                z[i][j]=0\n",
    "        for i in range(self.door_pos[0],self.door_pos[0]+2):\n",
    "            for j in range(self.door_pos[1],self.door_pos[1]+10):\n",
    "                z[i][j]=0\n",
    "        for i in range(self.state[1]-2,min(self.state[1]+2,99)):\n",
    "            for j in range(self.state[0]-5,min(self.state[0]+5,99)):\n",
    "                z[i][j]=0\n",
    "                \n",
    "        \n",
    "        import matplotlib.pyplot as plt\n",
    "        \n",
    "\n",
    "        \n",
    "\n",
    "        plt.imshow(z, cmap='hot', interpolation='nearest')\n",
    "\n",
    "        plt.title('2-D Heat Map in Room')\n",
    "        plt.colorbar()\n",
    "        plt.gca().invert_yaxis()\n",
    "        plt.show()\n",
    "    \n",
    "    def reset(self):\n",
    "        \n",
    "        # Reset shower temperature\n",
    "        # print(\"reset called\")\n",
    "        # print(self.state)\n",
    "        self.state = [random.randint(25, 75),random.randint(25, 75)]\n",
    "        # Reset shower time\n",
    "        self.move_length = 100\n",
    "        return  self.state\n",
    "    "
   ]
  },
  {
   "cell_type": "code",
   "execution_count": 90,
   "metadata": {
    "id": "8ZxpAR8Rj7p5"
   },
   "outputs": [],
   "source": [
    "env = RoomEnv((5,15),((0,25),(2,10)),((80,0),(15,2)))"
   ]
  },
  {
   "cell_type": "code",
   "execution_count": 54,
   "metadata": {
    "colab": {
     "base_uri": "https://localhost:8080/"
    },
    "id": "9mFoo5gxj7p7",
    "outputId": "0c91ddac-c86d-4637-d77e-c20047d66adf"
   },
   "outputs": [
    {
     "name": "stdout",
     "output_type": "stream",
     "text": [
      "Episode:1 Score:1563.0 \n",
      "Episode:2 Score:1402.9999999999998 \n",
      "Episode:3 Score:1609.1000000000001 \n",
      "Episode:4 Score:1313.5 \n",
      "Episode:5 Score:1355.1 \n",
      "Episode:6 Score:1676.8 \n",
      "Episode:7 Score:1655.6 \n",
      "Episode:8 Score:1826.6 \n",
      "Episode:9 Score:1651.1 \n",
      "Episode:10 Score:1295.2 \n"
     ]
    }
   ],
   "source": [
    "episodes = 10\n",
    "for episode in range(1, episodes+1):\n",
    "    state = env.reset()\n",
    "    done = False\n",
    "    score = 0 \n",
    "    switch = False\n",
    "    \n",
    "    while not done:\n",
    "        env.render(\"human\")\n",
    "        if(switch):\n",
    "            action = 0\n",
    "            switch=False\n",
    "        else:\n",
    "            action = 2\n",
    "            switch=True\n",
    "#         print('CurrentPos:{}'.format(action))\n",
    "        \n",
    "        n_state, reward, done, info = env.step(action)\n",
    "        score+=reward\n",
    "    print('Episode:{} Score:{} '.format(episode, score))\n",
    "    env.close()"
   ]
  },
  {
   "cell_type": "code",
   "execution_count": null,
   "metadata": {},
   "outputs": [],
   "source": []
  },
  {
   "cell_type": "markdown",
   "metadata": {
    "id": "lhTt3XNij7p8"
   },
   "source": [
    "# 2. Create a Deep Learning Model with Keras"
   ]
  },
  {
   "cell_type": "code",
   "execution_count": 91,
   "metadata": {
    "id": "RvSScRXcj7p9"
   },
   "outputs": [],
   "source": [
    "import numpy as np\n",
    "from tensorflow.keras.models import Sequential\n",
    "from tensorflow.keras.layers import Dense, Flatten\n",
    "from tensorflow.keras.optimizers import Adam"
   ]
  },
  {
   "cell_type": "code",
   "execution_count": 92,
   "metadata": {
    "id": "yFV4_QWSj7p-"
   },
   "outputs": [],
   "source": [
    "states = env.observation_space.shape\n",
    "actions = env.action_space.n"
   ]
  },
  {
   "cell_type": "code",
   "execution_count": 93,
   "metadata": {
    "colab": {
     "base_uri": "https://localhost:8080/"
    },
    "id": "W0XBuhvzj7p-",
    "outputId": "92f6224b-197a-4974-85eb-e5ff75c52a74"
   },
   "outputs": [
    {
     "data": {
      "text/plain": [
       "(1, 2)"
      ]
     },
     "execution_count": 93,
     "metadata": {},
     "output_type": "execute_result"
    }
   ],
   "source": [
    "states"
   ]
  },
  {
   "cell_type": "code",
   "execution_count": 94,
   "metadata": {
    "id": "QPXP6OWAj7p-"
   },
   "outputs": [],
   "source": [
    "def build_model(states, actions):\n",
    "    model = Sequential()\n",
    "    model.add(Flatten(input_shape=states))   \n",
    "    model.add(Dense(24, activation='relu', input_shape=states))\n",
    "    model.add(Dense(24, activation='relu'))\n",
    "    \n",
    "    model.add(Dense(actions, activation='linear'))\n",
    "    return model"
   ]
  },
  {
   "cell_type": "code",
   "execution_count": 95,
   "metadata": {
    "id": "_zw97GX7j7p_"
   },
   "outputs": [],
   "source": [
    "del model "
   ]
  },
  {
   "cell_type": "code",
   "execution_count": 96,
   "metadata": {
    "id": "6Tpf6H_0j7p_"
   },
   "outputs": [],
   "source": [
    "model = build_model(states, actions)"
   ]
  },
  {
   "cell_type": "code",
   "execution_count": 97,
   "metadata": {
    "colab": {
     "base_uri": "https://localhost:8080/"
    },
    "id": "dtVi0tOXj7p_",
    "outputId": "cc281261-3c8c-47d5-fa0c-adf260b96441"
   },
   "outputs": [
    {
     "name": "stdout",
     "output_type": "stream",
     "text": [
      "Model: \"sequential_5\"\n",
      "_________________________________________________________________\n",
      "Layer (type)                 Output Shape              Param #   \n",
      "=================================================================\n",
      "flatten_5 (Flatten)          (None, 2)                 0         \n",
      "_________________________________________________________________\n",
      "dense_15 (Dense)             (None, 24)                72        \n",
      "_________________________________________________________________\n",
      "dense_16 (Dense)             (None, 24)                600       \n",
      "_________________________________________________________________\n",
      "dense_17 (Dense)             (None, 4)                 100       \n",
      "=================================================================\n",
      "Total params: 772\n",
      "Trainable params: 772\n",
      "Non-trainable params: 0\n",
      "_________________________________________________________________\n"
     ]
    }
   ],
   "source": [
    "model.summary()"
   ]
  },
  {
   "cell_type": "markdown",
   "metadata": {
    "id": "8XKacIXej7qA"
   },
   "source": [
    "# 3. Build Agent with Keras-RL"
   ]
  },
  {
   "cell_type": "code",
   "execution_count": 98,
   "metadata": {
    "id": "U8kDaoVIj7qA"
   },
   "outputs": [],
   "source": [
    "from rl.agents import DQNAgent\n",
    "from rl.policy import  BoltzmannQPolicy\n",
    "from rl.memory import SequentialMemory"
   ]
  },
  {
   "cell_type": "code",
   "execution_count": 99,
   "metadata": {
    "id": "RsfBpb9ej7qA"
   },
   "outputs": [],
   "source": [
    "def build_agent(model, actions):\n",
    "    policy =  BoltzmannQPolicy()\n",
    "    memory = SequentialMemory(limit=500000, window_length=1)\n",
    "    dqn = DQNAgent(model=model, memory=memory, policy=policy, \n",
    "                  nb_actions=actions, nb_steps_warmup=300, target_model_update= 1e-3)\n",
    "    return dqn"
   ]
  },
  {
   "cell_type": "code",
   "execution_count": 100,
   "metadata": {
    "colab": {
     "base_uri": "https://localhost:8080/",
     "height": 397
    },
    "id": "sYl8cAgfj7qB",
    "outputId": "d5dba474-786d-4a66-9e01-2aacb71e595d",
    "scrolled": true
   },
   "outputs": [
    {
     "name": "stdout",
     "output_type": "stream",
     "text": [
      "Training for 10000 steps ...\n",
      "Interval 1 (0 steps performed)\n",
      " 1878/10000 [====>.........................] - ETA: 2:55 - reward: 8.8726done, took 40.655 seconds\n"
     ]
    }
   ],
   "source": [
    "\n",
    "dqn = build_agent(model, actions)\n",
    "dqn.compile(Adam(lr=1e-3), metrics=['mae'])\n",
    "dqn.fit(env, nb_steps=10000, visualize=True, verbose=1)\n",
    "env.close(); "
   ]
  },
  {
   "cell_type": "code",
   "execution_count": 27,
   "metadata": {
    "id": "tteRF-rBj7qE"
   },
   "outputs": [],
   "source": [
    "dqn.save_weights(model.name+'doorWindowRandomStartSuccess'+'dqn_weights2.h5f', overwrite=True)"
   ]
  },
  {
   "cell_type": "code",
   "execution_count": null,
   "metadata": {
    "colab": {
     "base_uri": "https://localhost:8080/"
    },
    "id": "Dqb0nLAsj7qB",
    "outputId": "a9b643a5-2357-463e-a9c4-0ce1e261eecf"
   },
   "outputs": [
    {
     "name": "stdout",
     "output_type": "stream",
     "text": [
      "Testing for 5 episodes ...\n"
     ]
    }
   ],
   "source": [
    "\n",
    "scores = dqn.test(env, nb_episodes=5, visualize=True)\n",
    "env.close();\n",
    "print(scores.history['episode_reward'])"
   ]
  },
  {
   "cell_type": "code",
   "execution_count": 165,
   "metadata": {
    "colab": {
     "base_uri": "https://localhost:8080/",
     "height": 613
    },
    "id": "u3Y3hSwHHibv",
    "outputId": "85f35a85-be28-49b8-fcd5-175b5796aa23"
   },
   "outputs": [
    {
     "data": {
      "text/plain": [
       "[35, 69]"
      ]
     },
     "execution_count": 165,
     "metadata": {},
     "output_type": "execute_result"
    }
   ],
   "source": [
    "env.state"
   ]
  },
  {
   "cell_type": "code",
   "execution_count": 85,
   "metadata": {},
   "outputs": [],
   "source": [
    "dqn = build_agent(model, actions)\n",
    "dqn.compile(Adam(lr=1e-3), metrics=['mae'])"
   ]
  },
  {
   "cell_type": "code",
   "execution_count": 86,
   "metadata": {
    "id": "q8OzdBNwj7qF"
   },
   "outputs": [],
   "source": [
    "dqn.load_weights('sequential_1doorWindowRandomStartSuccessdqn_weights2.h5f')"
   ]
  },
  {
   "cell_type": "code",
   "execution_count": 87,
   "metadata": {
    "colab": {
     "base_uri": "https://localhost:8080/"
    },
    "id": "Dqb0nLAsj7qB",
    "outputId": "a9b643a5-2357-463e-a9c4-0ce1e261eecf"
   },
   "outputs": [
    {
     "name": "stdout",
     "output_type": "stream",
     "text": [
      "Testing for 5 episodes ...\n",
      "Episode 1: reward: 1502.500, steps: 100\n",
      "Episode 2: reward: 1364.800, steps: 100\n",
      "Episode 3: reward: 1411.300, steps: 100\n",
      "Episode 4: reward: 1566.700, steps: 100\n",
      "Episode 5: reward: 1671.800, steps: 100\n",
      "[1502.5000000000002, 1364.8000000000004, 1411.3, 1566.7000000000003, 1671.8000000000002]\n"
     ]
    }
   ],
   "source": [
    "scores = dqn.test(env, nb_episodes=5, visualize=True)\n",
    "env.close();\n",
    "print(scores.history['episode_reward'])"
   ]
  },
  {
   "cell_type": "code",
   "execution_count": 88,
   "metadata": {},
   "outputs": [
    {
     "data": {
      "image/png": "[encoded data removed]",
      "text/plain": [
       "<Figure size 640x480 with 2 Axes>"
      ]
     },
     "metadata": {},
     "output_type": "display_data"
    }
   ],
   "source": [
    "env.render3()"
   ]
  },
  {
   "cell_type": "markdown",
   "metadata": {
    "id": "5d8uez7dj7qD"
   },
   "source": [
    "# 4. Reloading Agent from Memory"
   ]
  },
  {
   "cell_type": "code",
   "execution_count": null,
   "metadata": {
    "id": "ZH4dqugBj7qE"
   },
   "outputs": [],
   "source": [
    "del model\n",
    "del dqn\n",
    "del env"
   ]
  },
  {
   "cell_type": "code",
   "execution_count": null,
   "metadata": {
    "id": "fz7RAJ9Rj7qE"
   },
   "outputs": [],
   "source": [
    "env = gym.make('CartPole-v0')\n",
    "actions = env.action_space.n\n",
    "states = env.observation_space.shape[0]\n",
    "model = build_model(states, actions)\n",
    "dqn = build_agent(model, actions)\n",
    "dqn.compile(Adam(lr=1e-3), metrics=['mae'])"
   ]
  },
  {
   "cell_type": "code",
   "execution_count": null,
   "metadata": {
    "id": "GIM5k-M2j7qF"
   },
   "outputs": [],
   "source": [
    "_ = dqn.test(env, nb_episodes=5, visualize=True)"
   ]
  },
  {
   "cell_type": "code",
   "execution_count": null,
   "metadata": {
    "id": "ssrGKaxzj7qG"
   },
   "outputs": [],
   "source": []
  }
 ],
 "metadata": {
  "colab": {
   "provenance": []
  },
  "kernelspec": {
   "display_name": "Python 3 (ipykernel)",
   "language": "python",
   "name": "python3"
  },
  "language_info": {
   "codemirror_mode": {
    "name": "ipython",
    "version": 3
   },
   "file_extension": ".py",
   "mimetype": "text/x-python",
   "name": "python",
   "nbconvert_exporter": "python",
   "pygments_lexer": "ipython3",
   "version": "3.8.15"
  }
 },
 "nbformat": 4,
 "nbformat_minor": 1
}
